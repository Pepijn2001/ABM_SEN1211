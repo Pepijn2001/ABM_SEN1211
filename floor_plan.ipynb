{
 "cells": [
  {
   "cell_type": "code",
   "id": "initial_id",
   "metadata": {
    "collapsed": true,
    "ExecuteTime": {
     "end_time": "2024-11-21T08:42:34.661774Z",
     "start_time": "2024-11-21T08:42:34.206364Z"
    }
   },
   "source": [
    "from PIL import Image\n",
    "import numpy as np\n",
    "\n",
    "def image_to_floor_plan(image_path, threshold=128):\n",
    "    \"\"\"\n",
    "    Convert an image-based floor plan to a matrix representation.\n",
    "    \n",
    "    Args:\n",
    "        image_path (str): Path to the floor plan image file.\n",
    "        threshold (int): Pixel intensity threshold for binarization.\n",
    "        \n",
    "    Returns:\n",
    "        np.ndarray: A 2D numpy array representing the floor plan.\n",
    "                    0 = walkable, 1 = obstacle.\n",
    "    \"\"\"\n",
    "    # Load the image\n",
    "    img = Image.open(image_path)\n",
    "    \n",
    "    # Convert to grayscale\n",
    "    grayscale_img = img.convert(\"L\")  # \"L\" mode is 8-bit grayscale\n",
    "    \n",
    "    # Convert to numpy array\n",
    "    img_array = np.array(grayscale_img)\n",
    "    \n",
    "    # Binarize the image based on the threshold\n",
    "    floor_plan = (img_array < threshold).astype(int)  # 1 for obstacles, 0 for walkable\n",
    "    \n",
    "    return floor_plan"
   ],
   "outputs": [],
   "execution_count": 1
  },
  {
   "metadata": {
    "ExecuteTime": {
     "end_time": "2024-11-21T09:02:40.869250Z",
     "start_time": "2024-11-21T09:02:40.584579Z"
    }
   },
   "cell_type": "code",
   "source": [
    "floor_plan_dir = \"./assets/aula_BG.png\"\n",
    "image_to_floor_plan(floor_plan_dir)"
   ],
   "id": "9bce1a8ec41ae1b",
   "outputs": [
    {
     "data": {
      "text/plain": [
       "array([[0, 0, 0, ..., 0, 0, 0],\n",
       "       [0, 0, 0, ..., 0, 0, 0],\n",
       "       [0, 0, 0, ..., 0, 0, 0],\n",
       "       ...,\n",
       "       [0, 0, 0, ..., 0, 0, 0],\n",
       "       [0, 0, 0, ..., 0, 0, 0],\n",
       "       [0, 0, 0, ..., 0, 0, 0]])"
      ]
     },
     "execution_count": 3,
     "metadata": {},
     "output_type": "execute_result"
    }
   ],
   "execution_count": 3
  },
  {
   "metadata": {},
   "cell_type": "code",
   "outputs": [],
   "execution_count": null,
   "source": "",
   "id": "9c8ecc9723dcb58"
  }
 ],
 "metadata": {
  "kernelspec": {
   "display_name": "Python 3",
   "language": "python",
   "name": "python3"
  },
  "language_info": {
   "codemirror_mode": {
    "name": "ipython",
    "version": 2
   },
   "file_extension": ".py",
   "mimetype": "text/x-python",
   "name": "python",
   "nbconvert_exporter": "python",
   "pygments_lexer": "ipython2",
   "version": "2.7.6"
  }
 },
 "nbformat": 4,
 "nbformat_minor": 5
}
