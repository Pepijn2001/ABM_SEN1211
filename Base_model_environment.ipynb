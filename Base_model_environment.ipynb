{
 "cells": [
  {
   "cell_type": "code",
   "metadata": {
    "ExecuteTime": {
     "end_time": "2024-12-05T07:57:47.635904Z",
     "start_time": "2024-12-05T07:57:43.750812Z"
    }
   },
   "source": [
    "# import libraries\n",
    "import matplotlib.pyplot as plt\n",
    "import matplotlib.colors as mcolors\n",
    "from matplotlib.animation import FuncAnimation\n",
    "import mesa\n",
    "from mesa import Agent, Model\n",
    "from mesa.space import MultiGrid\n",
    "from mesa.datacollection import DataCollector\n",
    "import numpy as np\n",
    "import math\n",
    "from IPython.display import HTML\n",
    "from matplotlib import rc\n",
    "import sys\n",
    "np.set_printoptions(threshold=sys.maxsize)"
   ],
   "outputs": [],
   "execution_count": 1
  },
  {
   "cell_type": "markdown",
   "metadata": {},
   "source": [
    "This code runs with mesa version 3.00 or higher"
   ]
  },
  {
   "cell_type": "code",
   "metadata": {
    "ExecuteTime": {
     "end_time": "2024-12-05T07:57:47.657057Z",
     "start_time": "2024-12-05T07:57:47.637895Z"
    }
   },
   "source": [
    "# check mesa version\n",
    "print(\"Mesa version: \", mesa.__version__)"
   ],
   "outputs": [
    {
     "name": "stdout",
     "output_type": "stream",
     "text": [
      "Mesa version:  3.0.3\n"
     ]
    }
   ],
   "execution_count": 2
  },
  {
   "cell_type": "code",
   "metadata": {
    "ExecuteTime": {
     "end_time": "2024-12-05T07:57:47.682867Z",
     "start_time": "2024-12-05T07:57:47.661056Z"
    }
   },
   "source": [
    "# Function to calculate Euclidean distance (distance between two points)\n",
    "def euclidean_distance(pos1, pos2):\n",
    "    # Use the formula to calculate distance between two coordinates\n",
    "    return math.sqrt((pos1[0] - pos2[0]) ** 2 + (pos1[1] - pos2[1]) ** 2)"
   ],
   "outputs": [],
   "execution_count": 3
  },
  {
   "metadata": {
    "ExecuteTime": {
     "end_time": "2024-12-05T07:57:47.718936Z",
     "start_time": "2024-12-05T07:57:47.685858Z"
    }
   },
   "cell_type": "code",
   "source": [
    "from PIL import Image\n",
    "import numpy as np\n",
    "\n",
    "def image_to_floor_plan(image_path, threshold=128):\n",
    "    \"\"\"\n",
    "    Convert an image-based floor plan to a matrix representation.\n",
    "    \n",
    "    Args:\n",
    "        image_path (str): Path to the floor plan image file.\n",
    "        threshold (int): Pixel intensity threshold for binarization.\n",
    "        \n",
    "    Returns:\n",
    "        np.ndarray: A 2D numpy array representing the floor plan.\n",
    "                    0 = walkable, 1 = obstacle.\n",
    "    \"\"\"\n",
    "    # Load the image\n",
    "    img = Image.open(image_path)\n",
    "    \n",
    "    # Convert to grayscale\n",
    "    grayscale_img = img.convert(\"L\")  # \"L\" mode is 8-bit grayscale\n",
    "\n",
    "    # Convert to numpy array\n",
    "    img_array = np.array(grayscale_img)\n",
    "    \n",
    "    # Binarize the image based on the threshold\n",
    "    floor_plan = (img_array < threshold).astype(int)  # 1 for obstacles, 0 for walkable\n",
    "    \n",
    "    return floor_plan"
   ],
   "outputs": [],
   "execution_count": 4
  },
  {
   "metadata": {
    "ExecuteTime": {
     "end_time": "2024-12-05T07:57:47.776984Z",
     "start_time": "2024-12-05T07:57:47.720930Z"
    }
   },
   "cell_type": "code",
   "source": [
    "floor_plan_dir = \"./assets/aula_plattegrond.png\"\n",
    "floor_plan = image_to_floor_plan(floor_plan_dir)"
   ],
   "outputs": [],
   "execution_count": 5
  },
  {
   "metadata": {
    "ExecuteTime": {
     "end_time": "2024-12-05T07:57:47.808810Z",
     "start_time": "2024-12-05T07:57:47.784023Z"
    }
   },
   "cell_type": "code",
   "source": "rows, cols = np.where(floor_plan == 1)",
   "outputs": [],
   "execution_count": 6
  },
  {
   "metadata": {
    "ExecuteTime": {
     "end_time": "2024-12-05T07:57:47.846693Z",
     "start_time": "2024-12-05T07:57:47.817794Z"
    }
   },
   "cell_type": "code",
   "source": "grid_data = np.zeros((73, 120))",
   "outputs": [],
   "execution_count": 7
  },
  {
   "metadata": {
    "ExecuteTime": {
     "end_time": "2024-12-05T07:57:47.880913Z",
     "start_time": "2024-12-05T07:57:47.849690Z"
    }
   },
   "cell_type": "code",
   "source": [
    "def find_exits(floor_plan):\n",
    "    exit_locations = []\n",
    "    rows, cols = len(floor_plan), len(floor_plan[0])\n",
    "\n",
    "    # Process first row and last row\n",
    "    for col in range(cols):\n",
    "        if floor_plan[rows - 1][col] == 0:  # First row (top in original indexing)\n",
    "            exit_locations.append((col, 0))  # Map to bottom (row 0 in new indexing)\n",
    "        if floor_plan[0][col] == 0:  # Last row (bottom in original indexing)\n",
    "            exit_locations.append((col, rows - 1))  # Map to top (row `rows - 1` in new indexing)\n",
    "\n",
    "    # Process first column and last column, excluding corners\n",
    "    for row in range(1, rows):\n",
    "        reversed_row = rows - 1 - row  # Reverse the row indexing\n",
    "        if floor_plan[row][0] == 0:  # First column\n",
    "            exit_locations.append((0, reversed_row))\n",
    "        if floor_plan[row][cols - 1] == 0:  # Last column\n",
    "            exit_locations.append((cols - 1, reversed_row))\n",
    "    return exit_locations"
   ],
   "outputs": [],
   "execution_count": 8
  },
  {
   "metadata": {
    "ExecuteTime": {
     "end_time": "2024-12-05T07:57:47.914571Z",
     "start_time": "2024-12-05T07:57:47.886895Z"
    }
   },
   "cell_type": "code",
   "source": "print(find_exits(floor_plan))",
   "outputs": [
    {
     "name": "stdout",
     "output_type": "stream",
     "text": [
      "[(42, 0), (43, 0), (44, 0), (45, 0), (46, 73), (47, 73), (48, 73), (49, 73), (0, 49), (0, 48), (0, 47), (0, 46), (0, 45), (0, 44), (0, 41), (0, 40), (0, 39), (121, 37), (121, 36), (121, 35), (121, 34), (0, 32), (0, 31), (0, 30), (0, 27), (0, 26), (0, 25), (0, 24), (0, 23), (0, 22), (121, 9), (121, 8)]\n"
     ]
    }
   ],
   "execution_count": 9
  },
  {
   "metadata": {
    "ExecuteTime": {
     "end_time": "2024-12-05T07:57:48.703241Z",
     "start_time": "2024-12-05T07:57:47.920562Z"
    }
   },
   "cell_type": "code",
   "source": [
    "# Find exits\n",
    "exit_locations = find_exits(floor_plan)\n",
    "\n",
    "# Prepare data for scatter plot\n",
    "rows, cols = np.where(floor_plan == 1)\n",
    "max_y = floor_plan.shape[0] - 1  # For inverting the y-axis\n",
    "adjusted_rows = [max_y - y for y in rows]\n",
    "\n",
    "# Extract coordinates for the entire grid\n",
    "coordinates = list(zip(cols, adjusted_rows))\n",
    "x_coords = [coord[0] for coord in coordinates]\n",
    "y_coords = [coord[1] for coord in coordinates]\n",
    "\n",
    "# Adjust exits for inverted y-axis\n",
    "adjusted_exits = [(x, y) for x, y in exit_locations]\n",
    "exit_x = [coord[0] for coord in adjusted_exits]\n",
    "exit_y = [coord[1] for coord in adjusted_exits]\n",
    "\n",
    "# Create the scatter plot\n",
    "plt.figure(figsize=(8, 8))\n",
    "plt.scatter(x_coords, y_coords, c='blue', s=5, label='Points')  # All points in blue\n",
    "plt.scatter(exit_x, exit_y, c='red', s=20, label='Exits')  # Exits in red\n",
    "plt.title(\"Visualizing All Points and Exits\")\n",
    "plt.xlabel(\"X Coordinate\")\n",
    "plt.ylabel(\"Y Coordinate\")\n",
    "plt.grid(True)\n",
    "plt.legend()\n",
    "plt.show()"
   ],
   "outputs": [
    {
     "data": {
      "text/plain": [
       "<Figure size 800x800 with 1 Axes>"
      ],
      "image/png": "[encoded data removed]"
     },
     "metadata": {},
     "output_type": "display_data"
    }
   ],
   "execution_count": 10
  },
  {
   "metadata": {
    "ExecuteTime": {
     "end_time": "2024-12-05T07:57:49.165482Z",
     "start_time": "2024-12-05T07:57:48.705240Z"
    }
   },
   "cell_type": "code",
   "source": [
    "import matplotlib.pyplot as plt\n",
    "max_y = max(rows)  \n",
    "\n",
    "# Adjust y-coordinates to invert the y-axis\n",
    "adjusted_rows = [max_y - y for y in rows]\n",
    "# Define the coordinates to plot\n",
    "coordinates = list(zip(cols, adjusted_rows))\n",
    "\n",
    "# Extract x and y coordinates\n",
    "x_coords = [coord[0] for coord in coordinates]\n",
    "y_coords = [coord[1] for coord in coordinates]\n",
    "\n",
    "# Create the plot\n",
    "plt.figure(figsize=(8, 8))\n",
    "plt.scatter(x_coords, y_coords, c='blue', s=5)  # Plot each point as a blue dot\n",
    "\n",
    "plt.title(\"Visualizing All Points\")\n",
    "plt.xlabel(\"X Coordinate\")\n",
    "plt.ylabel(\"Y Coordinate\")\n",
    "plt.grid(True)\n",
    "plt.show()"
   ],
   "outputs": [
    {
     "data": {
      "text/plain": [
       "<Figure size 800x800 with 1 Axes>"
      ],
      "image/png": "[encoded data removed]"
     },
     "metadata": {},
     "output_type": "display_data"
    }
   ],
   "execution_count": 11
  },
  {
   "cell_type": "markdown",
   "metadata": {},
   "source": [
    "# Base Model"
   ]
  },
  {
   "cell_type": "code",
   "metadata": {
    "ExecuteTime": {
     "end_time": "2024-12-05T07:57:49.390612Z",
     "start_time": "2024-12-05T07:57:49.169475Z"
    }
   },
   "source": [
    "###################\n",
    "### AGENT CLASS ###\n",
    "###################\n",
    "\n",
    "# Define the NavigationAgent class\n",
    "class NavigationAgent(Agent):\n",
    "    def __init__(self, model, vision=5): # Default vision range of 5 cells\n",
    "        super().__init__(model)  # MESA `Agent` class initialization, auto-assigns unique_id in Mesa 3.0\n",
    "        # Attributes of each agent\n",
    "        self.found_exit = False  # Track if agent has reached the exit\n",
    "        self.previous_pos = None  # Previous position of the agent\n",
    "        self.vision = vision  # Vision range of the agent\n",
    "\n",
    "    # Function to move the agent towards the exit\n",
    "    def move_towards_exit(self):\n",
    "        self.previous_pos = self.pos  # Store the current position before moving\n",
    "        # MESA `get_neighborhood` function retrieves nearby cells based on vision range\n",
    "        possible_steps = self.model.grid.get_neighborhood(self.pos, moore=True, include_center=False)\n",
    "        \n",
    "        min_distance = float('inf')  # Start with a very large distance\n",
    "        best_step = None  # Initialize best step as None\n",
    "        \n",
    "        # Check each possible step to find the one closest to the exit\n",
    "        for step in possible_steps:\n",
    "            # Only consider steps that don't have obstacles and have less than 8 agents\n",
    "            if step not in self.model.obstacles and len(self.model.grid.get_cell_list_contents(step)) < 8:\n",
    "                dist = euclidean_distance(step, self.model.exit_locations)  # Distance to the exit\n",
    "                if dist < min_distance:\n",
    "                    min_distance = dist\n",
    "                    best_step = step  # Update best step to be closer to the exit\n",
    "        if best_step:\n",
    "            # MESA `move_agent` function moves the agent to the new cell\n",
    "            self.model.grid.move_agent(self, best_step)\n",
    "\n",
    "    # Function to move the agent randomly if the exit is not in sight\n",
    "    def move_randomly(self):\n",
    "        self.previous_pos = self.pos\n",
    "        possible_steps = self.model.grid.get_neighborhood(self.pos, moore=True, include_center=False)\n",
    "        \n",
    "        # Filter steps to only those without obstacles and with fewer than 8 agents\n",
    "        valid_steps = [step for step in possible_steps if step not in self.model.obstacles and len(self.model.grid.get_cell_list_contents(step)) < 8]\n",
    "        \n",
    "        if valid_steps:\n",
    "            # Randomly choose a valid position and move there\n",
    "            random_step = self.random.choice(valid_steps)\n",
    "            # MESA `move_agent` function moves the agent to the chosen position\n",
    "            self.model.grid.move_agent(self, random_step)\n",
    "\n",
    "    # Define the actions the agent will take in each step\n",
    "    def step(self):\n",
    "        # If the agent is at the exit, mark as exited\n",
    "        if self.pos == self.model.exit_locations:\n",
    "            self.found_exit = True  # Set the agent's exit status to True\n",
    "            self.model.grid.remove_agent(self)  # MESA function to remove the agent from the grid\n",
    "            self.remove()  #self.remove() to remove from AgentSet\n",
    "            self.model.cumulative_exited += 1  # Count this agent in cumulative exited agents\n",
    "        else:\n",
    "            # MESA `get_neighborhood` checks the agent's vision area for the exit\n",
    "            vision_area = self.model.grid.get_neighborhood(self.pos, moore=True, radius=self.vision, include_center=False)\n",
    "            exit_in_vision = self.model.exit_locations in vision_area\n",
    "            \n",
    "            # Move towards the exit if it's in sight, otherwise move randomly\n",
    "            if exit_in_vision:\n",
    "                self.move_towards_exit()\n",
    "            else:\n",
    "                self.move_randomly()\n",
    "\n",
    "###################\n",
    "### MODEL CLASS ###\n",
    "###################\n",
    "\n",
    "# Define the model class to handle the overall environment\n",
    "class FloorPlanModel(Model):\n",
    "    def __init__(self, floor_plan, num_agents, agent_vision):\n",
    "        super().__init__()  # `Model` class initialization\n",
    "        \n",
    "        # Basic model settings\n",
    "        self.num_agents = num_agents\n",
    "        self.agent_vision = agent_vision\n",
    "        self.grid = MultiGrid(floor_plan.shape[1], floor_plan.shape[0], False)  # MESA grid with dimensions; False means no wrapping\n",
    "        self.exit_locations = find_exits(floor_plan)\n",
    "        \n",
    "        \n",
    "        # Define obstacles, signs and stairs in the grid\n",
    "        # y-axis needs to be inverted to get the right visualisation\n",
    "        rows, cols = np.where(floor_plan == 1)        \n",
    "        max_y = max(rows) \n",
    "        adjusted_rows = [max_y - y for y in rows]\n",
    "        self.obstacles = list(zip(cols, adjusted_rows))\n",
    "        \n",
    "        self.signs = []\n",
    "        self.stairs_north = [(11, y) for y in range(52, 60)]\n",
    "        self.stairs_south = [(11, y) for y in range (12,20)]\n",
    "        \n",
    "        # Initialize cumulative exited count\n",
    "        self.cumulative_exited = 0\n",
    "\n",
    "        # Initialize DataCollector (MESA tool for tracking metrics across steps)\n",
    "        self.datacollector = DataCollector(\n",
    "            model_reporters={\n",
    "                \"Active Agents\": lambda m: len(m.agents),  # Count of agents still active\n",
    "                \"Exited Agents\": lambda m: sum(1 for agent in m.agents if isinstance(agent, NavigationAgent) and agent.found_exit),\n",
    "                \"Cumulative Exited Agents\": lambda m: m.cumulative_exited,  # Cumulative exited count\n",
    "                \"Agents per Cell\": self.count_agents_per_cell  # Counts agents in each cell\n",
    "            },\n",
    "            agent_reporters={\n",
    "                \"Found Exit\": lambda a: a.found_exit if isinstance(a, NavigationAgent) else None  # Reports exit status per agent\n",
    "            }\n",
    "        )\n",
    "\n",
    "        self.place_agents(agent_vision)  # Place agents on the grid\n",
    "        self.datacollector.collect(self) # Collect data at the start of the simulation\n",
    "        \n",
    "\n",
    "    # Function to randomly place agents in the grid\n",
    "    def place_agents(self, agent_vision):\n",
    "        for i in range(self.num_agents):\n",
    "            agent = NavigationAgent(self, vision = agent_vision)  # Create agent with initial vision range of 5 cells\n",
    "            placed = False  # Track if the agent is successfully placed\n",
    "            while not placed:\n",
    "                x = self.random.randrange(self.grid.width)\n",
    "                y = self.random.randrange(self.grid.height)\n",
    "                cell_contents = self.grid.get_cell_list_contents((x, y))\n",
    "\n",
    "                # Only place agent if cell has no obstacles and fewer than 8 agents\n",
    "                if (x, y) not in self.obstacles and len(cell_contents) < 8:\n",
    "                    self.grid.place_agent(agent, (x, y))  # MESA function to place agent in grid                    \n",
    "                    placed = True  # Mark as placed\n",
    "\n",
    "\n",
    "    # Function to count agents in each cell\n",
    "    def count_agents_per_cell(self):\n",
    "        agent_counts = {}  # Dictionary to store agent counts by cell position\n",
    "        # MESA `coord_iter` function iterates over grid cells and their contents\n",
    "        for cell in self.grid.coord_iter():\n",
    "            cell_contents, (x, y) = cell  # Unpack cell contents and coordinates\n",
    "            # Count NavigationAgents in each cell\n",
    "            nav_agent_count = sum(1 for obj in cell_contents if isinstance(obj, NavigationAgent))\n",
    "            if nav_agent_count > 0:\n",
    "                agent_counts[(x, y)] = nav_agent_count\n",
    "        return agent_counts\n",
    "    \n",
    "    # Function to get the grid data for visualization\n",
    "    def get_grid(self):\n",
    "        # 0: empty, 1: obstacle, 2: agent, 3: exit, 4: sign, 5: stairs\n",
    "        grid_data = np.zeros((self.grid.height, self.grid.width))\n",
    "        \n",
    "        # print('size', grid_data.shape)\n",
    "        # print('check grid 1')\n",
    "        \n",
    "        # Mark obstacles on the grid\n",
    "        for x, y in self.obstacles:\n",
    "            grid_data[y, x] = 1\n",
    "            \n",
    "        # print('check grid 2')\n",
    "        \n",
    "        # Mark agents on the grid\n",
    "        for agent in self.agents:\n",
    "            if isinstance(agent, NavigationAgent):\n",
    "                x, y = agent.pos\n",
    "                grid_data[y, x] = 2\n",
    "                \n",
    "        # print('check grid 3')\n",
    "        \n",
    "        # Mark signs and exit\n",
    "        for x, y in self.exit_locations:\n",
    "            grid_data[y, x] = 3\n",
    "        for x, y in self.signs:\n",
    "            grid_data[y, x] = 4\n",
    "        for x, y in self.stairs_north:\n",
    "            grid_data[y, x] = 5\n",
    "        for x, y in self.stairs_south:\n",
    "            grid_data[y, x]  = 5\n",
    "            \n",
    "        # print('check grid 4')\n",
    "        \n",
    "        return grid_data\n",
    "        \n",
    "    # Model step function to update the simulation\n",
    "    def step(self):\n",
    "        self.agents.do(\"step\")  # MESA 3.0 function to execute the `step` function of each agent\n",
    "        self.datacollector.collect(self)  # MESA DataCollector collects metrics at each step\n",
    "\n",
    "    "
   ],
   "outputs": [],
   "execution_count": 12
  },
  {
   "cell_type": "code",
   "metadata": {
    "ExecuteTime": {
     "end_time": "2024-12-05T07:58:02.613096Z",
     "start_time": "2024-12-05T07:57:49.399583Z"
    }
   },
   "source": [
    "# Run the model and see the results\n",
    "model = FloorPlanModel(floor_plan, 100, 5) # run the model with 30x30 grid and 100 agents and a vision of 5\n",
    "for i in range(100): # run the model for 100 steps\n",
    "    model.step() # step the model by 1\n",
    "\n",
    "# Collect the data from the model\n",
    "model_data = model.datacollector.get_model_vars_dataframe()\n",
    "agent_data = model.datacollector.get_agent_vars_dataframe()"
   ],
   "outputs": [],
   "execution_count": 13
  },
  {
   "cell_type": "markdown",
   "metadata": {},
   "source": [
    "# Visualization with User Interface\n",
    "You don't have to understand every single line in the visualisation code below. Please understand the code to extend that you can introduce changes to it when needed"
   ]
  },
  {
   "cell_type": "code",
   "metadata": {
    "ExecuteTime": {
     "end_time": "2024-12-05T07:58:02.743400Z",
     "start_time": "2024-12-05T07:58:02.615099Z"
    }
   },
   "source": [
    "# Visualization Function\n",
    "def plot_grid(model, ax):\n",
    "    rc(\"animation\", embed_limit=100)  # Set a higher limit in MB to allow smoother animation playback\n",
    "    grid_data = model.get_grid()  # Retrieve the current state of the grid from the model\n",
    "    # print('check grid plot 1')\n",
    "    ax.clear()  # Clear any previous plots on the axes to prevent overlap in visualizations\n",
    "    \n",
    "    # Define color mappings:\n",
    "    # 0 (empty) -> white, 1 (obstacle) -> black, 2 (agent) -> blue,\n",
    "    # 3 (exit) -> green, 4 (sign) -> orange\n",
    "    cmap = mcolors.ListedColormap(['white', 'black', 'blue', 'red', 'orange', 'green'])\n",
    "    bounds = [0, 1, 2, 3, 4, 5]  # Boundaries to separate each category\n",
    "    norm = mcolors.BoundaryNorm(bounds, cmap.N)  # Normalizes values to assign colors to each category\n",
    "    # print('check grid plot 2')\n",
    "    # Display the grid data with color mapping applied.\n",
    "    # Setting 'origin' to 'lower' places the (0,0) coordinate at the bottom-left.\n",
    "    ax.imshow(grid_data, cmap=cmap, norm=norm, origin='lower')\n",
    "    \n",
    "    # Add grid lines for better cell visibility\n",
    "    ax.grid(which='both', color='gray', linestyle='-', linewidth=2)\n",
    "    \n",
    "    # print('check grid plot 3')\n",
    "    # Customize grid display: set grid to start from -0.5 with labels at intervals of 1\n",
    "    # Set minor ticks for cell boundaries, with thicker and darker lines\n",
    "    ax.set_xticks(np.arange(-0.5, model.grid.width, 1), minor=True)\n",
    "    ax.set_yticks(np.arange(-0.5, model.grid.height, 1), minor=True)\n",
    "    ax.grid(which='minor', color='gray', linestyle='-', linewidth=1.5)  # Thicker, darker lines for cell boundaries\n",
    "    # print('check grid plot 4')\n",
    "    # Set major ticks for labels at intervals of 5, with lighter and thinner lines\n",
    "    ax.set_xticks(np.arange(0, model.grid.width, 5), minor=False)\n",
    "    ax.set_yticks(np.arange(0, model.grid.height, 5), minor=False)\n",
    "    ax.grid(which='major', color='lightgray', linestyle='-', linewidth=0)  # invisible line\n",
    "    # print('check grid plot 5')\n",
    "    \n",
    "    # Label the exit point on the grid in red text for easy identification\n",
    "    for exit_x, exit_y in model.exit_locations:\n",
    "        ax.text(exit_x, exit_y, 'EXIT', ha='center', va='center', fontsize=12, color='black', fontweight='bold')\n",
    "\n",
    "    # Add labels for each sign location in black text for visibility\n",
    "    for sign_pos in model.signs:\n",
    "        x, y = sign_pos\n",
    "        ax.text(x, y, 'SIGN', ha='center', va='center', fontsize=10, color='black', fontweight='bold')\n",
    "    \n",
    "    for stairs_pos in [model.stairs_north[4], model.stairs_south[4]]:\n",
    "        x, y = stairs_pos\n",
    "        ax.text(x, y, 'STAIR', ha='center', va='center', fontsize=10, color='black', fontweight='bold')\n",
    "\n",
    "    # Set the title to show the current step number in the model\n",
    "    ax.set_title(f\"Step {model.steps}\", fontsize=16)\n",
    "    ax.tick_params(axis='both', which='major', labelsize=7)  # Control tick label size\n",
    "    \n",
    "    # Draw movement arrows for agents to show the direction they are traveling\n",
    "    for agent in model.agents:\n",
    "        # Only draw arrow if the agent has moved and is a NavigationAgent\n",
    "        if isinstance(agent, NavigationAgent) and agent.previous_pos:\n",
    "            start_x, start_y = agent.previous_pos  # Previous position of the agent\n",
    "            end_x, end_y = agent.pos  # Current position of the agent\n",
    "            \n",
    "            # Draw an arrow from the previous position to the current position\n",
    "            ax.arrow(\n",
    "                start_x, start_y,\n",
    "                end_x - start_x, end_y - start_y,\n",
    "                head_width=0.3, head_length=0.3, fc='yellow', ec='yellow'  # Yellow arrow for movement direction\n",
    "            )\n",
    "    # plt.show()\n",
    "# Animation Update Function\n",
    "def update(frame, model, ax):\n",
    "    # For every frame, update the model state if it's not the first frame\n",
    "    if frame > 0:\n",
    "        print('I am updating the frame')\n",
    "        model.step()  # Run one step of the model simulation\n",
    "    plot_grid(model, ax)  # Redraw the grid with updated agent positions\n",
    "    \n",
    "# Run the Animation with a larger figure size\n",
    "def run_animation(model, steps):\n",
    "    # print(\"check animation 1\")\n",
    "    fig, ax = plt.subplots(figsize=(10, 10))  # Create a 10x10 figure for the plot\n",
    "    # print(\"check animation 2\")\n",
    "    plot_grid(model, ax)  # Plot the initial grid state\n",
    "    # print(\"check animation 3\")\n",
    "    # Create an animation that updates the grid for each step\n",
    "    anim = FuncAnimation(fig, update, frames=steps+1, fargs=(model, ax), repeat=False)\n",
    "    # print(\"check animation 4\")\n",
    "    plt.close(fig)  # Close the figure after animation creation to avoid duplicate displays\n",
    "    # print(\"check animation 5\")\n",
    "    return anim\n",
    "\n",
    "# Your imports and function definitions remain the same, up until where you initialize and run the model\n",
    "import ipywidgets as widgets  # For interactive widgets (slider, button)\n",
    "from IPython.display import display, HTML  # To display widgets and HTML animations\n",
    "import time  # For tracking elapsed time\n",
    "\n",
    "# Slider to choose the number of agents\n",
    "agent_slider = widgets.IntSlider(\n",
    "    value=10,      # Default starting number of agents\n",
    "    min=1,        # Minimum number of agents allowed\n",
    "    max=500,       # Maximum number of agents allowed\n",
    "    step=10,       # Step size for slider increments\n",
    "    description='Num Agents:',  # Label for the slider\n",
    "    continuous_update=False     # Only update value when slider is released\n",
    ")\n",
    "\n",
    "# Slider to choose the number of time steps (frames) for the animation\n",
    "time_step_slider = widgets.IntSlider(\n",
    "    value=10,      # Default starting number of steps\n",
    "    min=1,         # Minimum time steps allowed\n",
    "    max=500,       # Maximum time steps allowed\n",
    "    step=1,        # Step size for slider increments\n",
    "    description='Time Steps:',  # Label for the slider\n",
    "    continuous_update=False     # Only update value when slider is released\n",
    ")\n",
    "\n",
    "# Slider to choose the vision range (vision radius) of agents\n",
    "vision_slider = widgets.IntSlider(\n",
    "    value=5,      # Default starting vision range\n",
    "    min=1,        # Minimum vision range\n",
    "    max=20,       # Maximum vision range\n",
    "    step=1,       # Step size for slider increments\n",
    "    description='Vision:',  # Label for the slider\n",
    "    continuous_update=False     # Only update value when slider is released\n",
    ")\n",
    "\n",
    "# Button to start the simulation with current slider settings\n",
    "run_button = widgets.Button(description=\"Run Simulation\")\n",
    "\n",
    "# Output widget for displaying the animation and elapsed time\n",
    "output_widget = widgets.Output()\n",
    "\n",
    "# Label to show elapsed time during the simulation\n",
    "elapsed_time_label = widgets.Label(value=\"Elapsed time: 0.0 seconds\")\n",
    "\n",
    "# Flag variable to control timing function\n",
    "stop_timer = False\n",
    "\n",
    "# Display the interface with sliders, button, label, and output area\n",
    "display(agent_slider, time_step_slider, vision_slider, run_button, elapsed_time_label, output_widget)\n",
    "\n",
    "# Define the function to initialize and run the model\n",
    "def run_model(change):\n",
    "    global stop_timer, model_data, agent_data  # Allow variables to be accessed globally\n",
    "    with output_widget:  # Use output widget to display the animation\n",
    "        output_widget.clear_output()  # Clear any previous output\n",
    "        num_agents = agent_slider.value  # Get the number of agents from the slider\n",
    "        time_steps = time_step_slider.value  # Get the number of steps from the slider\n",
    "        agent_vision = vision_slider.value  # Get the vision range from the slider\n",
    "        model = FloorPlanModel(floor_plan=floor_plan, num_agents=num_agents, agent_vision=agent_vision)  # Initialize the model\n",
    "\n",
    "        # Reset timer flag and start timing for the animation\n",
    "        stop_timer = False\n",
    "        start_time = time.time()\n",
    "\n",
    "        def update_time_label():\n",
    "            while not stop_timer:  # Keep updating time label until timer stops\n",
    "                elapsed_time = time.time() - start_time\n",
    "                elapsed_time_label.value = f\"Elapsed time: {elapsed_time:.1f} seconds\"\n",
    "                time.sleep(0.1)  # Update every 0.1 seconds for real-time effect\n",
    "\n",
    "        # Start elapsed time tracking in a separate thread\n",
    "        import threading\n",
    "        timer_thread = threading.Thread(target=update_time_label, daemon=True)\n",
    "        timer_thread.start()\n",
    "        \n",
    "        # Run the animation with selected number of steps\n",
    "        anim = run_animation(model, steps=time_steps)\n",
    "\n",
    "        # Display the animation output in HTML format\n",
    "        output = HTML(anim.to_jshtml())\n",
    "        display(output)\n",
    "\n",
    "        # Stop the timer after the simulation completes\n",
    "        stop_timer = True\n",
    "        elapsed_time = time.time() - start_time\n",
    "        elapsed_time_label.value = f\"Total elapsed time: {elapsed_time:.1f} seconds\"\n",
    "\n",
    "        # Retrieve and display model and agent data after simulation completes\n",
    "        model_data = model.datacollector.get_model_vars_dataframe()  # Data for the model over time\n",
    "        agent_data = model.datacollector.get_agent_vars_dataframe()  # Data for each agent over time\n",
    "    return model, model_data, agent_data  # Return model and data for further inspection\n",
    "\n",
    "# Attach the run_model function to the run button click event\n",
    "run_button.on_click(run_model)"
   ],
   "outputs": [
    {
     "data": {
      "text/plain": [
       "IntSlider(value=10, continuous_update=False, description='Num Agents:', max=500, min=1, step=10)"
      ],
      "application/vnd.jupyter.widget-view+json": {
       "version_major": 2,
       "version_minor": 0,
       "model_id": "f5c73bf96b3f4728a4a76e2f79f345e5"
      }
     },
     "metadata": {},
     "output_type": "display_data"
    },
    {
     "data": {
      "text/plain": [
       "IntSlider(value=10, continuous_update=False, description='Time Steps:', max=500, min=1)"
      ],
      "application/vnd.jupyter.widget-view+json": {
       "version_major": 2,
       "version_minor": 0,
       "model_id": "9cf0890a7ed248a081816945d58db729"
      }
     },
     "metadata": {},
     "output_type": "display_data"
    },
    {
     "data": {
      "text/plain": [
       "IntSlider(value=5, continuous_update=False, description='Vision:', max=20, min=1)"
      ],
      "application/vnd.jupyter.widget-view+json": {
       "version_major": 2,
       "version_minor": 0,
       "model_id": "4540ce88a0274e2d8fcfeee33682d324"
      }
     },
     "metadata": {},
     "output_type": "display_data"
    },
    {
     "data": {
      "text/plain": [
       "Button(description='Run Simulation', style=ButtonStyle())"
      ],
      "application/vnd.jupyter.widget-view+json": {
       "version_major": 2,
       "version_minor": 0,
       "model_id": "3b28522b9fe44d418aa4ae8cf0db4094"
      }
     },
     "metadata": {},
     "output_type": "display_data"
    },
    {
     "data": {
      "text/plain": [
       "Label(value='Elapsed time: 0.0 seconds')"
      ],
      "application/vnd.jupyter.widget-view+json": {
       "version_major": 2,
       "version_minor": 0,
       "model_id": "01f0d660a4004554ab8322876a21842c"
      }
     },
     "metadata": {},
     "output_type": "display_data"
    },
    {
     "data": {
      "text/plain": [
       "Output()"
      ],
      "application/vnd.jupyter.widget-view+json": {
       "version_major": 2,
       "version_minor": 0,
       "model_id": "d0ac445d100540b291f2aefd47c84c94"
      }
     },
     "metadata": {},
     "output_type": "display_data"
    }
   ],
   "execution_count": 14
  },
  {
   "cell_type": "code",
   "metadata": {
    "ExecuteTime": {
     "end_time": "2024-12-05T07:58:03.215817Z",
     "start_time": "2024-12-05T07:58:02.758372Z"
    }
   },
   "source": [
    "print(\"\\nModel Data:\")\n",
    "model_data"
   ],
   "outputs": [
    {
     "name": "stdout",
     "output_type": "stream",
     "text": [
      "\n",
      "Model Data:\n"
     ]
    },
    {
     "data": {
      "text/plain": [
       "     Active Agents  Exited Agents  Cumulative Exited Agents  \\\n",
       "0              100              0                         0   \n",
       "1              100              0                         0   \n",
       "2              100              0                         0   \n",
       "3              100              0                         0   \n",
       "4              100              0                         0   \n",
       "..             ...            ...                       ...   \n",
       "96             100              0                         0   \n",
       "97             100              0                         0   \n",
       "98             100              0                         0   \n",
       "99             100              0                         0   \n",
       "100            100              0                         0   \n",
       "\n",
       "                                       Agents per Cell  \n",
       "0    {(5, 26): 1, (7, 30): 1, (8, 32): 1, (9, 22): ...  \n",
       "1    {(4, 26): 1, (7, 29): 1, (8, 33): 1, (8, 36): ...  \n",
       "2    {(5, 27): 1, (6, 30): 1, (9, 22): 1, (9, 32): ...  \n",
       "3    {(4, 26): 1, (7, 30): 1, (8, 23): 1, (9, 31): ...  \n",
       "4    {(4, 25): 1, (6, 29): 1, (7, 24): 1, (9, 30): ...  \n",
       "..                                                 ...  \n",
       "96   {(2, 45): 1, (6, 27): 1, (7, 40): 1, (8, 25): ...  \n",
       "97   {(2, 46): 1, (6, 28): 1, (6, 41): 1, (8, 24): ...  \n",
       "98   {(1, 46): 1, (5, 28): 1, (7, 25): 1, (7, 40): ...  \n",
       "99   {(0, 45): 1, (6, 26): 1, (6, 28): 1, (7, 39): ...  \n",
       "100  {(1, 45): 1, (5, 27): 1, (6, 39): 1, (7, 27): ...  \n",
       "\n",
       "[101 rows x 4 columns]"
      ],
      "text/html": [
       "<div>\n",
       "<style scoped>\n",
       "    .dataframe tbody tr th:only-of-type {\n",
       "        vertical-align: middle;\n",
       "    }\n",
       "\n",
       "    .dataframe tbody tr th {\n",
       "        vertical-align: top;\n",
       "    }\n",
       "\n",
       "    .dataframe thead th {\n",
       "        text-align: right;\n",
       "    }\n",
       "</style>\n",
       "<table border=\"1\" class=\"dataframe\">\n",
       "  <thead>\n",
       "    <tr style=\"text-align: right;\">\n",
       "      <th></th>\n",
       "      <th>Active Agents</th>\n",
       "      <th>Exited Agents</th>\n",
       "      <th>Cumulative Exited Agents</th>\n",
       "      <th>Agents per Cell</th>\n",
       "    </tr>\n",
       "  </thead>\n",
       "  <tbody>\n",
       "    <tr>\n",
       "      <th>0</th>\n",
       "      <td>100</td>\n",
       "      <td>0</td>\n",
       "      <td>0</td>\n",
       "      <td>{(5, 26): 1, (7, 30): 1, (8, 32): 1, (9, 22): ...</td>\n",
       "    </tr>\n",
       "    <tr>\n",
       "      <th>1</th>\n",
       "      <td>100</td>\n",
       "      <td>0</td>\n",
       "      <td>0</td>\n",
       "      <td>{(4, 26): 1, (7, 29): 1, (8, 33): 1, (8, 36): ...</td>\n",
       "    </tr>\n",
       "    <tr>\n",
       "      <th>2</th>\n",
       "      <td>100</td>\n",
       "      <td>0</td>\n",
       "      <td>0</td>\n",
       "      <td>{(5, 27): 1, (6, 30): 1, (9, 22): 1, (9, 32): ...</td>\n",
       "    </tr>\n",
       "    <tr>\n",
       "      <th>3</th>\n",
       "      <td>100</td>\n",
       "      <td>0</td>\n",
       "      <td>0</td>\n",
       "      <td>{(4, 26): 1, (7, 30): 1, (8, 23): 1, (9, 31): ...</td>\n",
       "    </tr>\n",
       "    <tr>\n",
       "      <th>4</th>\n",
       "      <td>100</td>\n",
       "      <td>0</td>\n",
       "      <td>0</td>\n",
       "      <td>{(4, 25): 1, (6, 29): 1, (7, 24): 1, (9, 30): ...</td>\n",
       "    </tr>\n",
       "    <tr>\n",
       "      <th>...</th>\n",
       "      <td>...</td>\n",
       "      <td>...</td>\n",
       "      <td>...</td>\n",
       "      <td>...</td>\n",
       "    </tr>\n",
       "    <tr>\n",
       "      <th>96</th>\n",
       "      <td>100</td>\n",
       "      <td>0</td>\n",
       "      <td>0</td>\n",
       "      <td>{(2, 45): 1, (6, 27): 1, (7, 40): 1, (8, 25): ...</td>\n",
       "    </tr>\n",
       "    <tr>\n",
       "      <th>97</th>\n",
       "      <td>100</td>\n",
       "      <td>0</td>\n",
       "      <td>0</td>\n",
       "      <td>{(2, 46): 1, (6, 28): 1, (6, 41): 1, (8, 24): ...</td>\n",
       "    </tr>\n",
       "    <tr>\n",
       "      <th>98</th>\n",
       "      <td>100</td>\n",
       "      <td>0</td>\n",
       "      <td>0</td>\n",
       "      <td>{(1, 46): 1, (5, 28): 1, (7, 25): 1, (7, 40): ...</td>\n",
       "    </tr>\n",
       "    <tr>\n",
       "      <th>99</th>\n",
       "      <td>100</td>\n",
       "      <td>0</td>\n",
       "      <td>0</td>\n",
       "      <td>{(0, 45): 1, (6, 26): 1, (6, 28): 1, (7, 39): ...</td>\n",
       "    </tr>\n",
       "    <tr>\n",
       "      <th>100</th>\n",
       "      <td>100</td>\n",
       "      <td>0</td>\n",
       "      <td>0</td>\n",
       "      <td>{(1, 45): 1, (5, 27): 1, (6, 39): 1, (7, 27): ...</td>\n",
       "    </tr>\n",
       "  </tbody>\n",
       "</table>\n",
       "<p>101 rows × 4 columns</p>\n",
       "</div>"
      ]
     },
     "execution_count": 15,
     "metadata": {},
     "output_type": "execute_result"
    }
   ],
   "execution_count": 15
  },
  {
   "cell_type": "code",
   "metadata": {
    "ExecuteTime": {
     "end_time": "2024-12-05T07:58:03.246680Z",
     "start_time": "2024-12-05T07:58:03.217818Z"
    }
   },
   "source": [
    "print(\"\\nAgent Data:\")\n",
    "agent_data.head(40)\n"
   ],
   "outputs": [
    {
     "name": "stdout",
     "output_type": "stream",
     "text": [
      "\n",
      "Agent Data:\n"
     ]
    },
    {
     "data": {
      "text/plain": [
       "              Found Exit\n",
       "Step AgentID            \n",
       "0    1             False\n",
       "     2             False\n",
       "     3             False\n",
       "     4             False\n",
       "     5             False\n",
       "     6             False\n",
       "     7             False\n",
       "     8             False\n",
       "     9             False\n",
       "     10            False\n",
       "     11            False\n",
       "     12            False\n",
       "     13            False\n",
       "     14            False\n",
       "     15            False\n",
       "     16            False\n",
       "     17            False\n",
       "     18            False\n",
       "     19            False\n",
       "     20            False\n",
       "     21            False\n",
       "     22            False\n",
       "     23            False\n",
       "     24            False\n",
       "     25            False\n",
       "     26            False\n",
       "     27            False\n",
       "     28            False\n",
       "     29            False\n",
       "     30            False\n",
       "     31            False\n",
       "     32            False\n",
       "     33            False\n",
       "     34            False\n",
       "     35            False\n",
       "     36            False\n",
       "     37            False\n",
       "     38            False\n",
       "     39            False\n",
       "     40            False"
      ],
      "text/html": [
       "<div>\n",
       "<style scoped>\n",
       "    .dataframe tbody tr th:only-of-type {\n",
       "        vertical-align: middle;\n",
       "    }\n",
       "\n",
       "    .dataframe tbody tr th {\n",
       "        vertical-align: top;\n",
       "    }\n",
       "\n",
       "    .dataframe thead th {\n",
       "        text-align: right;\n",
       "    }\n",
       "</style>\n",
       "<table border=\"1\" class=\"dataframe\">\n",
       "  <thead>\n",
       "    <tr style=\"text-align: right;\">\n",
       "      <th></th>\n",
       "      <th></th>\n",
       "      <th>Found Exit</th>\n",
       "    </tr>\n",
       "    <tr>\n",
       "      <th>Step</th>\n",
       "      <th>AgentID</th>\n",
       "      <th></th>\n",
       "    </tr>\n",
       "  </thead>\n",
       "  <tbody>\n",
       "    <tr>\n",
       "      <th rowspan=\"40\" valign=\"top\">0</th>\n",
       "      <th>1</th>\n",
       "      <td>False</td>\n",
       "    </tr>\n",
       "    <tr>\n",
       "      <th>2</th>\n",
       "      <td>False</td>\n",
       "    </tr>\n",
       "    <tr>\n",
       "      <th>3</th>\n",
       "      <td>False</td>\n",
       "    </tr>\n",
       "    <tr>\n",
       "      <th>4</th>\n",
       "      <td>False</td>\n",
       "    </tr>\n",
       "    <tr>\n",
       "      <th>5</th>\n",
       "      <td>False</td>\n",
       "    </tr>\n",
       "    <tr>\n",
       "      <th>6</th>\n",
       "      <td>False</td>\n",
       "    </tr>\n",
       "    <tr>\n",
       "      <th>7</th>\n",
       "      <td>False</td>\n",
       "    </tr>\n",
       "    <tr>\n",
       "      <th>8</th>\n",
       "      <td>False</td>\n",
       "    </tr>\n",
       "    <tr>\n",
       "      <th>9</th>\n",
       "      <td>False</td>\n",
       "    </tr>\n",
       "    <tr>\n",
       "      <th>10</th>\n",
       "      <td>False</td>\n",
       "    </tr>\n",
       "    <tr>\n",
       "      <th>11</th>\n",
       "      <td>False</td>\n",
       "    </tr>\n",
       "    <tr>\n",
       "      <th>12</th>\n",
       "      <td>False</td>\n",
       "    </tr>\n",
       "    <tr>\n",
       "      <th>13</th>\n",
       "      <td>False</td>\n",
       "    </tr>\n",
       "    <tr>\n",
       "      <th>14</th>\n",
       "      <td>False</td>\n",
       "    </tr>\n",
       "    <tr>\n",
       "      <th>15</th>\n",
       "      <td>False</td>\n",
       "    </tr>\n",
       "    <tr>\n",
       "      <th>16</th>\n",
       "      <td>False</td>\n",
       "    </tr>\n",
       "    <tr>\n",
       "      <th>17</th>\n",
       "      <td>False</td>\n",
       "    </tr>\n",
       "    <tr>\n",
       "      <th>18</th>\n",
       "      <td>False</td>\n",
       "    </tr>\n",
       "    <tr>\n",
       "      <th>19</th>\n",
       "      <td>False</td>\n",
       "    </tr>\n",
       "    <tr>\n",
       "      <th>20</th>\n",
       "      <td>False</td>\n",
       "    </tr>\n",
       "    <tr>\n",
       "      <th>21</th>\n",
       "      <td>False</td>\n",
       "    </tr>\n",
       "    <tr>\n",
       "      <th>22</th>\n",
       "      <td>False</td>\n",
       "    </tr>\n",
       "    <tr>\n",
       "      <th>23</th>\n",
       "      <td>False</td>\n",
       "    </tr>\n",
       "    <tr>\n",
       "      <th>24</th>\n",
       "      <td>False</td>\n",
       "    </tr>\n",
       "    <tr>\n",
       "      <th>25</th>\n",
       "      <td>False</td>\n",
       "    </tr>\n",
       "    <tr>\n",
       "      <th>26</th>\n",
       "      <td>False</td>\n",
       "    </tr>\n",
       "    <tr>\n",
       "      <th>27</th>\n",
       "      <td>False</td>\n",
       "    </tr>\n",
       "    <tr>\n",
       "      <th>28</th>\n",
       "      <td>False</td>\n",
       "    </tr>\n",
       "    <tr>\n",
       "      <th>29</th>\n",
       "      <td>False</td>\n",
       "    </tr>\n",
       "    <tr>\n",
       "      <th>30</th>\n",
       "      <td>False</td>\n",
       "    </tr>\n",
       "    <tr>\n",
       "      <th>31</th>\n",
       "      <td>False</td>\n",
       "    </tr>\n",
       "    <tr>\n",
       "      <th>32</th>\n",
       "      <td>False</td>\n",
       "    </tr>\n",
       "    <tr>\n",
       "      <th>33</th>\n",
       "      <td>False</td>\n",
       "    </tr>\n",
       "    <tr>\n",
       "      <th>34</th>\n",
       "      <td>False</td>\n",
       "    </tr>\n",
       "    <tr>\n",
       "      <th>35</th>\n",
       "      <td>False</td>\n",
       "    </tr>\n",
       "    <tr>\n",
       "      <th>36</th>\n",
       "      <td>False</td>\n",
       "    </tr>\n",
       "    <tr>\n",
       "      <th>37</th>\n",
       "      <td>False</td>\n",
       "    </tr>\n",
       "    <tr>\n",
       "      <th>38</th>\n",
       "      <td>False</td>\n",
       "    </tr>\n",
       "    <tr>\n",
       "      <th>39</th>\n",
       "      <td>False</td>\n",
       "    </tr>\n",
       "    <tr>\n",
       "      <th>40</th>\n",
       "      <td>False</td>\n",
       "    </tr>\n",
       "  </tbody>\n",
       "</table>\n",
       "</div>"
      ]
     },
     "execution_count": 16,
     "metadata": {},
     "output_type": "execute_result"
    }
   ],
   "execution_count": 16
  },
  {
   "cell_type": "code",
   "metadata": {
    "ExecuteTime": {
     "end_time": "2024-12-05T07:58:03.265045Z",
     "start_time": "2024-12-05T07:58:03.249692Z"
    }
   },
   "source": [
    "#  Uncomment the code below to display the 'Agents per Cell' data for each step\n",
    "\n",
    "#print(\"Agents per Cell at each step:\")\n",
    "#for step, agents_per_cell in model_data[\"Agents per Cell\"].items():\n",
    "#    print(f\"\\nStep {step}:\")\n",
    "#    for cell, count in agents_per_cell.items():\n",
    "#        print(f\"  Cell {cell}: {count} agent(s)\")"
   ],
   "outputs": [],
   "execution_count": 17
  },
  {
   "cell_type": "code",
   "metadata": {
    "ExecuteTime": {
     "end_time": "2024-12-05T07:58:03.302098Z",
     "start_time": "2024-12-05T07:58:03.286985Z"
    }
   },
   "source": [],
   "outputs": [],
   "execution_count": 17
  }
 ],
 "metadata": {
  "kernelspec": {
   "display_name": "SEN1211-2024-2025-Mesa3",
   "language": "python",
   "name": "python3"
  },
  "language_info": {
   "codemirror_mode": {
    "name": "ipython",
    "version": 3
   },
   "file_extension": ".py",
   "mimetype": "text/x-python",
   "name": "python",
   "nbconvert_exporter": "python",
   "pygments_lexer": "ipython3",
   "version": "3.12.7"
  }
 },
 "nbformat": 4,
 "nbformat_minor": 4
}
